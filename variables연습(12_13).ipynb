{
  "nbformat": 4,
  "nbformat_minor": 0,
  "metadata": {
    "colab": {
      "name": "variables연습(12/4).ipynb",
      "provenance": [],
      "authorship_tag": "ABX9TyOL7/qUy/LtJerC9sDpv4jK",
      "include_colab_link": true
    },
    "kernelspec": {
      "name": "python3",
      "display_name": "Python 3"
    },
    "language_info": {
      "name": "python"
    }
  },
  "cells": [
    {
      "cell_type": "markdown",
      "metadata": {
        "id": "view-in-github",
        "colab_type": "text"
      },
      "source": [
        "<a href=\"https://colab.research.google.com/github/WasabiJo/class2021Fall/blob/main/variables%EC%97%B0%EC%8A%B5(12_13).ipynb\" target=\"_parent\"><img src=\"https://colab.research.google.com/assets/colab-badge.svg\" alt=\"Open In Colab\"/></a>"
      ]
    },
    {
      "cell_type": "code",
      "metadata": {
        "colab": {
          "base_uri": "https://localhost:8080/"
        },
        "id": "zvJ_ngWZs6iE",
        "outputId": "4f10aa99-b1c3-4b6a-9c68-d349b928354b"
      },
      "source": [
        "a = 1.2; print(type(a))"
      ],
      "execution_count": null,
      "outputs": [
        {
          "output_type": "stream",
          "name": "stdout",
          "text": [
            "<class 'float'>\n"
          ]
        }
      ]
    },
    {
      "cell_type": "code",
      "metadata": {
        "colab": {
          "base_uri": "https://localhost:8080/",
          "height": 90
        },
        "id": "kl9fubaNuCIr",
        "outputId": "1ec52d7e-e60b-4749-b78a-c9d8b469353b"
      },
      "source": [
        "a = 'abc'; print(type(a)); print(a[2]); print(a[0:2]); a[0]"
      ],
      "execution_count": 4,
      "outputs": [
        {
          "output_type": "stream",
          "name": "stdout",
          "text": [
            "<class 'str'>\n",
            "c\n",
            "ab\n"
          ]
        },
        {
          "output_type": "execute_result",
          "data": {
            "application/vnd.google.colaboratory.intrinsic+json": {
              "type": "string"
            },
            "text/plain": [
              "'a'"
            ]
          },
          "metadata": {},
          "execution_count": 4
        }
      ]
    },
    {
      "cell_type": "code",
      "metadata": {
        "id": "MvIDipSoygif"
      },
      "source": [
        ""
      ],
      "execution_count": null,
      "outputs": []
    },
    {
      "cell_type": "code",
      "metadata": {
        "colab": {
          "base_uri": "https://localhost:8080/",
          "height": 54
        },
        "id": "K1S-y7P_uXS0",
        "outputId": "fab6017b-6fa5-43e5-d21f-2c14d444ec0f"
      },
      "source": [
        "a = 'hello'; print(type(a)); a[1]"
      ],
      "execution_count": null,
      "outputs": [
        {
          "output_type": "stream",
          "name": "stdout",
          "text": [
            "<class 'str'>\n"
          ]
        },
        {
          "output_type": "execute_result",
          "data": {
            "application/vnd.google.colaboratory.intrinsic+json": {
              "type": "string"
            },
            "text/plain": [
              "'e'"
            ]
          },
          "metadata": {},
          "execution_count": 10
        }
      ]
    },
    {
      "cell_type": "code",
      "metadata": {
        "colab": {
          "base_uri": "https://localhost:8080/"
        },
        "id": "oUi4Kck8vQLD",
        "outputId": "6bd65dde-9f72-4b01-bc8a-e6ca5741a0ab"
      },
      "source": [
        "a = [1,2,3,4]; type(a); a[0:3]"
      ],
      "execution_count": null,
      "outputs": [
        {
          "output_type": "execute_result",
          "data": {
            "text/plain": [
              "[1, 2, 3]"
            ]
          },
          "metadata": {},
          "execution_count": 20
        }
      ]
    },
    {
      "cell_type": "code",
      "metadata": {
        "colab": {
          "base_uri": "https://localhost:8080/"
        },
        "id": "XHRkF_6Nv-z8",
        "outputId": "a9c3a24e-da76-4583-ed2c-36638164fddc"
      },
      "source": [
        "a = [1, 'a', [3, '4']]; print(type(a)); print(a[0]); print(type(a[1])); print(a[2]); print(type(a[2]));\\\n",
        "print(a[2][0]); print(type(a[2][0])); print(type(a[2][1]))"
      ],
      "execution_count": 6,
      "outputs": [
        {
          "output_type": "stream",
          "name": "stdout",
          "text": [
            "<class 'list'>\n",
            "1\n",
            "<class 'str'>\n",
            "[3, '4']\n",
            "<class 'list'>\n",
            "3\n",
            "<class 'int'>\n",
            "<class 'str'>\n"
          ]
        }
      ]
    },
    {
      "cell_type": "code",
      "metadata": {
        "colab": {
          "base_uri": "https://localhost:8080/"
        },
        "id": "f8fE2zChxDcZ",
        "outputId": "35ec0d2f-6b51-44f4-a686-73a021229793"
      },
      "source": [
        "a = {\"a\": \"apple\", \"b\": \"orange\", \"c\": \"2014\"}\n",
        "print(type(a))\n",
        "print(a[\"c\"])"
      ],
      "execution_count": 7,
      "outputs": [
        {
          "output_type": "stream",
          "name": "stdout",
          "text": [
            "<class 'dict'>\n",
            "2014\n"
          ]
        }
      ]
    }
  ]
}