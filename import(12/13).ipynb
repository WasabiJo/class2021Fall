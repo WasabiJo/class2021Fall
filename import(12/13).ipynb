{
  "nbformat": 4,
  "nbformat_minor": 0,
  "metadata": {
    "colab": {
      "name": "import.ipynb",
      "provenance": [],
      "include_colab_link": true
    },
    "kernelspec": {
      "name": "python3",
      "display_name": "Python 3"
    },
    "language_info": {
      "name": "python"
    }
  },
  "cells": [
    {
      "cell_type": "markdown",
      "metadata": {
        "id": "view-in-github",
        "colab_type": "text"
      },
      "source": [
        "<a href=\"https://colab.research.google.com/github/WasabiJo/class2021Fall/blob/main/import(12/13).ipynb\" target=\"_parent\"><img src=\"https://colab.research.google.com/assets/colab-badge.svg\" alt=\"Open In Colab\"/></a>"
      ]
    },
    {
      "cell_type": "code",
      "metadata": {
        "id": "JXicrkYOzPRo"
      },
      "source": [
        "import numpy as np\n",
        "n = np.random.randn(100)"
      ],
      "execution_count": 20,
      "outputs": []
    },
    {
      "cell_type": "code",
      "metadata": {
        "id": "oKT4vn4MwyLA",
        "colab": {
          "base_uri": "https://localhost:8080/",
          "height": 356
        },
        "outputId": "87e42803-8972-455a-acd9-829b83c4c304"
      },
      "source": [
        "import matplotlib\n",
        "matplotlib.pyplot.hist(n)"
      ],
      "execution_count": 21,
      "outputs": [
        {
          "output_type": "execute_result",
          "data": {
            "text/plain": [
              "(array([ 2.,  2., 10., 15., 20., 28., 17.,  3.,  2.,  1.]),\n",
              " array([-2.92598431, -2.34780917, -1.76963402, -1.19145888, -0.61328373,\n",
              "        -0.03510859,  0.54306655,  1.1212417 ,  1.69941684,  2.27759199,\n",
              "         2.85576713]),\n",
              " <a list of 10 Patch objects>)"
            ]
          },
          "metadata": {},
          "execution_count": 21
        },
        {
          "output_type": "display_data",
          "data": {
            "image/png": "[encoded data removed]",
            "text/plain": [
              "<Figure size 432x288 with 1 Axes>"
            ]
          },
          "metadata": {
            "needs_background": "light"
          }
        }
      ]
    },
    {
      "cell_type": "code",
      "metadata": {
        "colab": {
          "base_uri": "https://localhost:8080/",
          "height": 774
        },
        "id": "zQJ4LnbA-Hvz",
        "outputId": "adbee2ec-000a-43bc-e36b-ae695ec9b0ff"
      },
      "source": [
        "import matplotlib.pyplot\n",
        "matplotlib.pyplot.hist(n, bins=100)"
      ],
      "execution_count": 22,
      "outputs": [
        {
          "output_type": "execute_result",
          "data": {
            "text/plain": [
              "(array([1., 0., 0., 0., 0., 0., 0., 0., 0., 1., 0., 0., 0., 1., 0., 0., 0.,\n",
              "        1., 0., 0., 0., 2., 0., 1., 1., 4., 0., 1., 1., 0., 3., 2., 0., 2.,\n",
              "        2., 1., 3., 1., 0., 1., 3., 1., 1., 2., 1., 0., 5., 2., 1., 4., 1.,\n",
              "        4., 1., 1., 2., 4., 6., 5., 3., 1., 1., 2., 4., 3., 0., 1., 2., 0.,\n",
              "        1., 3., 1., 0., 0., 0., 1., 0., 0., 0., 0., 1., 0., 0., 0., 0., 0.,\n",
              "        0., 0., 0., 1., 1., 0., 0., 0., 0., 0., 0., 0., 0., 0., 1.]),\n",
              " array([-2.92598431, -2.8681668 , -2.81034928, -2.75253177, -2.69471425,\n",
              "        -2.63689674, -2.57907923, -2.52126171, -2.4634442 , -2.40562668,\n",
              "        -2.34780917, -2.28999165, -2.23217414, -2.17435662, -2.11653911,\n",
              "        -2.0587216 , -2.00090408, -1.94308657, -1.88526905, -1.82745154,\n",
              "        -1.76963402, -1.71181651, -1.65399899, -1.59618148, -1.53836397,\n",
              "        -1.48054645, -1.42272894, -1.36491142, -1.30709391, -1.24927639,\n",
              "        -1.19145888, -1.13364136, -1.07582385, -1.01800634, -0.96018882,\n",
              "        -0.90237131, -0.84455379, -0.78673628, -0.72891876, -0.67110125,\n",
              "        -0.61328373, -0.55546622, -0.49764871, -0.43983119, -0.38201368,\n",
              "        -0.32419616, -0.26637865, -0.20856113, -0.15074362, -0.0929261 ,\n",
              "        -0.03510859,  0.02270892,  0.08052644,  0.13834395,  0.19616147,\n",
              "         0.25397898,  0.3117965 ,  0.36961401,  0.42743153,  0.48524904,\n",
              "         0.54306655,  0.60088407,  0.65870158,  0.7165191 ,  0.77433661,\n",
              "         0.83215413,  0.88997164,  0.94778916,  1.00560667,  1.06342418,\n",
              "         1.1212417 ,  1.17905921,  1.23687673,  1.29469424,  1.35251176,\n",
              "         1.41032927,  1.46814679,  1.5259643 ,  1.58378181,  1.64159933,\n",
              "         1.69941684,  1.75723436,  1.81505187,  1.87286939,  1.9306869 ,\n",
              "         1.98850442,  2.04632193,  2.10413944,  2.16195696,  2.21977447,\n",
              "         2.27759199,  2.3354095 ,  2.39322702,  2.45104453,  2.50886205,\n",
              "         2.56667956,  2.62449707,  2.68231459,  2.7401321 ,  2.79794962,\n",
              "         2.85576713]),\n",
              " <a list of 100 Patch objects>)"
            ]
          },
          "metadata": {},
          "execution_count": 22
        },
        {
          "output_type": "display_data",
          "data": {
            "image/png": "[encoded data removed]",
            "text/plain": [
              "<Figure size 432x288 with 1 Axes>"
            ]
          },
          "metadata": {
            "needs_background": "light"
          }
        }
      ]
    },
    {
      "cell_type": "code",
      "metadata": {
        "id": "AWU6awi53c07",
        "outputId": "9b49fb47-6bac-4887-8815-e5ed130f6c56",
        "colab": {
          "base_uri": "https://localhost:8080/",
          "height": 350
        }
      },
      "source": [
        "import matplotlib.pyplot as plt\n",
        "plt.hist(n)"
      ],
      "execution_count": null,
      "outputs": [
        {
          "output_type": "execute_result",
          "data": {
            "text/plain": [
              "(array([ 4.,  4.,  4.,  8., 19., 21., 16., 13.,  6.,  5.]),\n",
              " array([-2.54804234, -2.0585933 , -1.56914426, -1.07969522, -0.59024618,\n",
              "        -0.10079714,  0.3886519 ,  0.87810094,  1.36754998,  1.85699902,\n",
              "         2.34644806]),\n",
              " <a list of 10 Patch objects>)"
            ]
          },
          "metadata": {},
          "execution_count": 5
        },
        {
          "output_type": "display_data",
          "data": {
            "image/png": "[encoded data removed]",
            "text/plain": [
              "<Figure size 432x288 with 1 Axes>"
            ]
          },
          "metadata": {
            "needs_background": "light"
          }
        }
      ]
    },
    {
      "cell_type": "code",
      "metadata": {
        "colab": {
          "base_uri": "https://localhost:8080/",
          "height": 350
        },
        "id": "moIjn3Kv-Hqy",
        "outputId": "4b1e3880-1576-4b63-b4d0-192704221a8d"
      },
      "source": [
        "from matplotlib import pyplot\n",
        "pyplot.hist(n)"
      ],
      "execution_count": null,
      "outputs": [
        {
          "output_type": "execute_result",
          "data": {
            "text/plain": [
              "(array([ 3.,  4.,  9., 11., 26., 19., 16., 10.,  1.,  1.]),\n",
              " array([-2.51307585, -1.99199295, -1.47091005, -0.94982715, -0.42874425,\n",
              "         0.09233865,  0.61342155,  1.13450445,  1.65558734,  2.17667024,\n",
              "         2.69775314]),\n",
              " <a list of 10 Patch objects>)"
            ]
          },
          "metadata": {},
          "execution_count": 11
        },
        {
          "output_type": "display_data",
          "data": {
            "image/png": "[encoded data removed]",
            "text/plain": [
              "<Figure size 432x288 with 1 Axes>"
            ]
          },
          "metadata": {
            "needs_background": "light"
          }
        }
      ]
    },
    {
      "cell_type": "code",
      "metadata": {
        "colab": {
          "base_uri": "https://localhost:8080/",
          "height": 350
        },
        "id": "ORo259i7_Uqi",
        "outputId": "8faa9ebd-66ff-4f86-e588-f114023e649d"
      },
      "source": [
        "from matplotlib.pyplot import hist\n",
        "hist(n)"
      ],
      "execution_count": null,
      "outputs": [
        {
          "output_type": "execute_result",
          "data": {
            "text/plain": [
              "(array([ 3.,  4.,  9., 11., 26., 19., 16., 10.,  1.,  1.]),\n",
              " array([-2.51307585, -1.99199295, -1.47091005, -0.94982715, -0.42874425,\n",
              "         0.09233865,  0.61342155,  1.13450445,  1.65558734,  2.17667024,\n",
              "         2.69775314]),\n",
              " <a list of 10 Patch objects>)"
            ]
          },
          "metadata": {},
          "execution_count": 14
        },
        {
          "output_type": "display_data",
          "data": {
            "image/png": "[encoded data removed]",
            "text/plain": [
              "<Figure size 432x288 with 1 Axes>"
            ]
          },
          "metadata": {
            "needs_background": "light"
          }
        }
      ]
    }
  ]
}