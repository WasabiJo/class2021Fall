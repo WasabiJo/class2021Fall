{
  "nbformat": 4,
  "nbformat_minor": 0,
  "metadata": {
    "colab": {
      "name": "syntax 복습 (12/5).ipynb",
      "provenance": [],
      "authorship_tag": "ABX9TyMwDjKfTmgK9lllWt78TvOz",
      "include_colab_link": true
    },
    "kernelspec": {
      "name": "python3",
      "display_name": "Python 3"
    },
    "language_info": {
      "name": "python"
    }
  },
  "cells": [
    {
      "cell_type": "markdown",
      "metadata": {
        "id": "view-in-github",
        "colab_type": "text"
      },
      "source": [
        "<a href=\"https://colab.research.google.com/github/WasabiJo/class2021Fall/blob/main/syntax_%EB%B3%B5%EC%8A%B5_(12_5).ipynb\" target=\"_parent\"><img src=\"https://colab.research.google.com/assets/colab-badge.svg\" alt=\"Open In Colab\"/></a>"
      ]
    },
    {
      "cell_type": "code",
      "metadata": {
        "colab": {
          "base_uri": "https://localhost:8080/"
        },
        "id": "5NLgcP1IcvJc",
        "outputId": "6cb6d9cb-3e8b-4686-b897-525898608935"
      },
      "source": [
        "a = [1, 2, 3, 4]\n",
        "for i in range(len(a)):\n",
        "  print(i)"
      ],
      "execution_count": 20,
      "outputs": [
        {
          "output_type": "stream",
          "name": "stdout",
          "text": [
            "0\n",
            "1\n",
            "2\n",
            "3\n"
          ]
        }
      ]
    },
    {
      "cell_type": "code",
      "metadata": {
        "colab": {
          "base_uri": "https://localhost:8080/"
        },
        "id": "yOWsx2rmezN9",
        "outputId": "b64b024f-2156-48d9-ff06-355a2ef02015"
      },
      "source": [
        "for i in range(10):\n",
        "  print(\"=\")"
      ],
      "execution_count": 14,
      "outputs": [
        {
          "output_type": "stream",
          "name": "stdout",
          "text": [
            "=\n",
            "=\n",
            "=\n",
            "=\n",
            "=\n",
            "=\n",
            "=\n",
            "=\n",
            "=\n",
            "=\n"
          ]
        }
      ]
    },
    {
      "cell_type": "markdown",
      "metadata": {
        "id": "7QteyFVMlmWZ"
      },
      "source": [
        "-----------------------------------------------"
      ]
    },
    {
      "cell_type": "code",
      "metadata": {
        "id": "VaFI5km2lqzu"
      },
      "source": [
        ""
      ],
      "execution_count": null,
      "outputs": []
    },
    {
      "cell_type": "code",
      "metadata": {
        "id": "XZXVhuy9lq15"
      },
      "source": [
        ""
      ],
      "execution_count": null,
      "outputs": []
    },
    {
      "cell_type": "code",
      "metadata": {
        "id": "tre_8z39lq4U"
      },
      "source": [
        ""
      ],
      "execution_count": null,
      "outputs": []
    },
    {
      "cell_type": "code",
      "metadata": {
        "colab": {
          "base_uri": "https://localhost:8080/"
        },
        "id": "jblZshH1ezSg",
        "outputId": "1bb9c9f9-d4ad-4164-8bf8-7fce8a21e675"
      },
      "source": [
        "a = ['red', 'green', 'blue', 'purple']\n",
        "for i in a:\n",
        "  print(i)"
      ],
      "execution_count": 22,
      "outputs": [
        {
          "output_type": "stream",
          "name": "stdout",
          "text": [
            "red\n",
            "green\n",
            "blue\n",
            "purple\n"
          ]
        }
      ]
    },
    {
      "cell_type": "code",
      "metadata": {
        "colab": {
          "base_uri": "https://localhost:8080/"
        },
        "id": "t_PRJp23ezWr",
        "outputId": "2d94b330-e5d5-400e-d8f3-422d63778811"
      },
      "source": [
        "a = ['red', 'green', 'blue', 'purple']\n",
        "for i in range(len(a)):\n",
        "  print(a[i])"
      ],
      "execution_count": 23,
      "outputs": [
        {
          "output_type": "stream",
          "name": "stdout",
          "text": [
            "red\n",
            "green\n",
            "blue\n",
            "purple\n"
          ]
        }
      ]
    },
    {
      "cell_type": "code",
      "metadata": {
        "colab": {
          "base_uri": "https://localhost:8080/"
        },
        "id": "rJeiPs0ylhIa",
        "outputId": "d9afe98b-81ff-4947-da00-ed1bc5448d4d"
      },
      "source": [
        "a = ['red', 'green', 'blue', 'purple']\n",
        "for i in range(len(a)):\n",
        "  print(i)"
      ],
      "execution_count": 24,
      "outputs": [
        {
          "output_type": "stream",
          "name": "stdout",
          "text": [
            "0\n",
            "1\n",
            "2\n",
            "3\n"
          ]
        }
      ]
    },
    {
      "cell_type": "code",
      "metadata": {
        "colab": {
          "base_uri": "https://localhost:8080/"
        },
        "id": "9ygqNJ_2md2r",
        "outputId": "cc4f8c5e-e6d6-4727-adc0-97f16059490a"
      },
      "source": [
        "#mark는 marks라는 list의 0,1,2,3,4번째 -> (30, 40, 50, 60, 70)\n",
        "#for의 뒤. 즉 mark에는 항상 양의정수만 들어갈 수 있는데, 실제로 for mark in range(len(marks))\\\n",
        "#만 되어도 값이 0,1,2,3,4가 나옴. 즉 number = number + 1하면 정수가 더해지면서 \n",
        "#정수 번째 수 구할 수 있는 것임\n",
        "\n",
        "marks = [30, 40, 50, 60, 70]\n",
        "\n",
        "number = 0\n",
        "for mark in marks:\n",
        "  number = number + 1\n",
        "  if mark>=60:\n",
        "    print(\"%d번 학생은 합격입니다.\" % number)"
      ],
      "execution_count": 32,
      "outputs": [
        {
          "output_type": "stream",
          "name": "stdout",
          "text": [
            "4번 학생은 합격입니다.\n",
            "5번 학생은 합격입니다.\n"
          ]
        }
      ]
    },
    {
      "cell_type": "code",
      "metadata": {
        "colab": {
          "base_uri": "https://localhost:8080/"
        },
        "id": "QZHtYT88ot8G",
        "outputId": "15a75090-0712-4e7e-9ad4-dfcb54c449d0"
      },
      "source": [
        "a = 0\n",
        "if a == 0:\n",
        "  print(a)\n",
        "else:\n",
        "  print(a+1)"
      ],
      "execution_count": 33,
      "outputs": [
        {
          "output_type": "stream",
          "name": "stdout",
          "text": [
            "0\n"
          ]
        }
      ]
    },
    {
      "cell_type": "code",
      "metadata": {
        "colab": {
          "base_uri": "https://localhost:8080/"
        },
        "id": "9yCszPYLpY48",
        "outputId": "d4a733af-2d9f-416f-c140-d49a92609184"
      },
      "source": [
        "for i in range(1, 3):\n",
        "  for j in range(3, 5):\n",
        "    print(i*j)"
      ],
      "execution_count": 35,
      "outputs": [
        {
          "output_type": "stream",
          "name": "stdout",
          "text": [
            "3\n",
            "4\n",
            "6\n",
            "8\n"
          ]
        }
      ]
    },
    {
      "cell_type": "code",
      "metadata": {
        "colab": {
          "base_uri": "https://localhost:8080/"
        },
        "id": "ZlgOCP2FpuI_",
        "outputId": "1cee93f1-2de1-4572-f8b7-7abfa639d042"
      },
      "source": [
        "for i in range(1, 3):\n",
        "  for j in range(3, 5):\n",
        "    if j >=4:\n",
        "      print(i*j)"
      ],
      "execution_count": 36,
      "outputs": [
        {
          "output_type": "stream",
          "name": "stdout",
          "text": [
            "4\n",
            "8\n"
          ]
        }
      ]
    },
    {
      "cell_type": "code",
      "metadata": {
        "colab": {
          "base_uri": "https://localhost:8080/"
        },
        "id": "zad5vVKYp5s_",
        "outputId": "2c420cf8-d105-4fe9-8fcb-1c203113afa8"
      },
      "source": [
        "a = [1, 2, 3, 4]\n",
        "b = [i for i in a if i>=2]\n",
        "b"
      ],
      "execution_count": 38,
      "outputs": [
        {
          "output_type": "execute_result",
          "data": {
            "text/plain": [
              "[2, 3, 4]"
            ]
          },
          "metadata": {},
          "execution_count": 38
        }
      ]
    },
    {
      "cell_type": "code",
      "metadata": {
        "colab": {
          "base_uri": "https://localhost:8080/"
        },
        "id": "7wO20Itaqjf0",
        "outputId": "1673d3f2-ae92-4dea-e7bc-17771b4fd35b"
      },
      "source": [
        "a = ['red', 'green', 'blue', 'purple']\n",
        "b = [i for i in a if len(i) >=4]\n",
        "b\n"
      ],
      "execution_count": 44,
      "outputs": [
        {
          "output_type": "execute_result",
          "data": {
            "text/plain": [
              "['green', 'blue', 'purple']"
            ]
          },
          "metadata": {},
          "execution_count": 44
        }
      ]
    }
  ]
}