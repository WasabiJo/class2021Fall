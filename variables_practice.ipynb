{
  "nbformat": 4,
  "nbformat_minor": 0,
  "metadata": {
    "colab": {
      "name": "variables practice.ipynb",
      "provenance": [],
      "authorship_tag": "ABX9TyMkJx2Vyfbxc4CoXS2ZjQnv",
      "include_colab_link": true
    },
    "kernelspec": {
      "name": "python3",
      "display_name": "Python 3"
    },
    "language_info": {
      "name": "python"
    }
  },
  "cells": [
    {
      "cell_type": "markdown",
      "metadata": {
        "id": "view-in-github",
        "colab_type": "text"
      },
      "source": [
        "<a href=\"https://colab.research.google.com/github/WasabiJo/class2021Fall/blob/main/variables_practice.ipynb\" target=\"_parent\"><img src=\"https://colab.research.google.com/assets/colab-badge.svg\" alt=\"Open In Colab\"/></a>"
      ]
    },
    {
      "cell_type": "code",
      "metadata": {
        "colab": {
          "base_uri": "https://localhost:8080/"
        },
        "id": "DHR9vuDV7tme",
        "outputId": "9758650d-7fd5-4666-ed6e-eff556788480"
      },
      "source": [
        "a = 1\n",
        "print(type(a))"
      ],
      "execution_count": 1,
      "outputs": [
        {
          "output_type": "stream",
          "name": "stdout",
          "text": [
            "<class 'int'>\n"
          ]
        }
      ]
    },
    {
      "cell_type": "code",
      "metadata": {
        "colab": {
          "base_uri": "https://localhost:8080/"
        },
        "id": "_lEl0XiJ7z9l",
        "outputId": "d0e51f98-07c9-4c1f-9137-722dad6af4ad"
      },
      "source": [
        "a = '123'\n",
        "print(type(a))\n",
        "print(a[1])\n",
        "print(a[1:3])"
      ],
      "execution_count": 4,
      "outputs": [
        {
          "output_type": "stream",
          "name": "stdout",
          "text": [
            "<class 'str'>\n",
            "2\n",
            "23\n"
          ]
        }
      ]
    },
    {
      "cell_type": "code",
      "metadata": {
        "colab": {
          "base_uri": "https://localhost:8080/"
        },
        "id": "DiKlSEAn8IqM",
        "outputId": "481e6509-dc00-47c4-b8a0-a02d685c98a1"
      },
      "source": [
        "a = [1, 'a', [3, '4']]\n",
        "print(type(a))\n",
        "print(a[0])\n",
        "print(a[1])\n",
        "print(a[2])\n",
        "type(a[2] [0])"
      ],
      "execution_count": 13,
      "outputs": [
        {
          "output_type": "stream",
          "name": "stdout",
          "text": [
            "<class 'list'>\n",
            "1\n",
            "a\n",
            "[3, '4']\n"
          ]
        },
        {
          "output_type": "execute_result",
          "data": {
            "text/plain": [
              "int"
            ]
          },
          "metadata": {},
          "execution_count": 13
        }
      ]
    },
    {
      "cell_type": "code",
      "metadata": {
        "colab": {
          "base_uri": "https://localhost:8080/"
        },
        "id": "CR39eQ438nzV",
        "outputId": "16a190d2-d8cf-45d6-92e9-fc6b7a0bb93b"
      },
      "source": [
        "a = {\"a\": \"apple\", \"b\": \"orange\", \"c\": 2014}\n",
        "print(type(a))\n",
        "print(a[\"a\"])\n",
        "print(a[\"c\"])"
      ],
      "execution_count": 16,
      "outputs": [
        {
          "output_type": "stream",
          "name": "stdout",
          "text": [
            "<class 'dict'>\n",
            "apple\n",
            "2014\n"
          ]
        }
      ]
    }
  ]
}